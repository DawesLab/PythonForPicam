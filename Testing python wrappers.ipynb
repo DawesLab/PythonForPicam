{
 "metadata": {
  "name": "Testing python wrappers"
 },
 "nbformat": 3,
 "nbformat_minor": 0,
 "worksheets": [
  {
   "cells": [
    {
     "cell_type": "code",
     "collapsed": false,
     "input": [
      "\"\"\"Test for talking to Picam\"\"\"\n",
      "import ctypes as ctypes"
     ],
     "language": "python",
     "metadata": {},
     "outputs": [],
     "prompt_number": "*"
    },
    {
     "cell_type": "code",
     "collapsed": false,
     "input": [
      "\"\"\" Import standard type definitions from PiTypes.py \"\"\"\n",
      "from PiTypes import *"
     ],
     "language": "python",
     "metadata": {},
     "outputs": []
    },
    {
     "cell_type": "code",
     "collapsed": false,
     "input": [
      "\"\"\" Import non-standard type definitions from PiTypesMore.py \"\"\"\n",
      "from PiTypesMore import *"
     ],
     "language": "python",
     "metadata": {},
     "outputs": []
    },
    {
     "cell_type": "code",
     "collapsed": false,
     "input": [
      "\"\"\" Import function definitions from PiFunctions.py \"\"\"\n",
      "\"\"\" This should contian all of the function from picam.h \"\"\"\n",
      "from PiFunctions import *"
     ],
     "language": "python",
     "metadata": {},
     "outputs": []
    },
    {
     "cell_type": "code",
     "collapsed": false,
     "input": [
      "\"\"\" Import parameter lookup from PiParameterLookup.py \"\"\"\n",
      "\"\"\" This file includes a function PI_V and a lookup table to return the code\n",
      "    for different Picam Parameters described in chapter 4 \"\"\"\n",
      "from PiParameterLookup import *"
     ],
     "language": "python",
     "metadata": {},
     "outputs": []
    }
   ],
   "metadata": {}
  }
 ]
}